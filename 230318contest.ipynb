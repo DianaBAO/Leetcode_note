{
 "cells": [
  {
   "attachments": {},
   "cell_type": "markdown",
   "metadata": {},
   "source": [
    "Biweek contest\n",
    "Distribute money"
   ]
  },
  {
   "cell_type": "code",
   "execution_count": 84,
   "metadata": {},
   "outputs": [],
   "source": [
    "class Solution:\n",
    "    def distMoney(self, money: int, children: int) -> int:\n",
    "        if money < children:\n",
    "            return -1\n",
    "        elif money - children < 7:\n",
    "            return 0\n",
    "        else:\n",
    "            if money/children > 8:\n",
    "                return children - 1\n",
    "            else:\n",
    "                if (money - children) % 7 == 3 and children - int((money - children) / 7) == 1:\n",
    "                    return int((money - children) / 7) - 1\n",
    "                else:\n",
    "                    return int((money - children) / 7) \n",
    "            \n"
   ]
  },
  {
   "cell_type": "code",
   "execution_count": 85,
   "metadata": {},
   "outputs": [
    {
     "data": {
      "text/plain": [
       "1"
      ]
     },
     "execution_count": 85,
     "metadata": {},
     "output_type": "execute_result"
    }
   ],
   "source": [
    "money = 17\n",
    "children = 2\n",
    "Solution.distMoney(1, money, children)"
   ]
  }
 ],
 "metadata": {
  "kernelspec": {
   "display_name": "base",
   "language": "python",
   "name": "python3"
  },
  "language_info": {
   "codemirror_mode": {
    "name": "ipython",
    "version": 3
   },
   "file_extension": ".py",
   "mimetype": "text/x-python",
   "name": "python",
   "nbconvert_exporter": "python",
   "pygments_lexer": "ipython3",
   "version": "3.8.16"
  },
  "orig_nbformat": 4
 },
 "nbformat": 4,
 "nbformat_minor": 2
}
