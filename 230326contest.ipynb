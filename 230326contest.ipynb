{
 "cells": [
  {
   "cell_type": "code",
   "execution_count": 2,
   "metadata": {},
   "outputs": [],
   "source": [
    "class Solution:\n",
    "    def kItemsWithMaximumSum(self, numOnes: int, numZeros: int, numNegOnes: int, k: int) -> int:\n",
    "        if k <= numOnes:\n",
    "            return k\n",
    "        elif k <= numOnes + numZeros:\n",
    "            return numOnes\n",
    "        else:\n",
    "            return numOnes - (k-(numOnes + numZeros))"
   ]
  },
  {
   "attachments": {},
   "cell_type": "markdown",
   "metadata": {},
   "source": [
    "## 没做出来 "
   ]
  },
  {
   "cell_type": "code",
   "execution_count": null,
   "metadata": {},
   "outputs": [],
   "source": [
    "class Solution:\n",
    "    def primeSubOperation(self, nums) -> bool:\n",
    "        for i in range(len(nums)):\n",
    "            if nums[i] < nums[i+1]:\n",
    "                return True\n",
    "            elif nums[i] <= i + 1:\n",
    "                return False\n",
    "            else: \n",
    "                for p in range(2, nums[i]-i):\n",
    "                    for a in range(2, p//2 + 1):\n",
    "                        if p%a == 0:\n",
    "                            return False\n",
    "                        else:\n",
    "                            return True\n",
    "                            p = max(prime for prime in range(2, nums[i]) if all(prime % n != 0 for n in range(2, int(prime**0.5)+1)))\n",
    "                     "
   ]
  },
  {
   "cell_type": "code",
   "execution_count": 15,
   "metadata": {},
   "outputs": [
    {
     "data": {
      "text/plain": [
       "True"
      ]
     },
     "execution_count": 15,
     "metadata": {},
     "output_type": "execute_result"
    }
   ],
   "source": [
    "nums = [5,8,2]\n",
    "self = 1\n",
    "Solution.primeSubOperation(self, nums)"
   ]
  }
 ],
 "metadata": {
  "kernelspec": {
   "display_name": "base",
   "language": "python",
   "name": "python3"
  },
  "language_info": {
   "codemirror_mode": {
    "name": "ipython",
    "version": 3
   },
   "file_extension": ".py",
   "mimetype": "text/x-python",
   "name": "python",
   "nbconvert_exporter": "python",
   "pygments_lexer": "ipython3",
   "version": "3.8.16"
  },
  "orig_nbformat": 4
 },
 "nbformat": 4,
 "nbformat_minor": 2
}
