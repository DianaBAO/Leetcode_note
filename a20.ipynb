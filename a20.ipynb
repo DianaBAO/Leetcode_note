{
 "cells": [
  {
   "attachments": {},
   "cell_type": "markdown",
   "metadata": {},
   "source": [
    "## a20 Valid Parentheses"
   ]
  },
  {
   "cell_type": "code",
   "execution_count": null,
   "metadata": {},
   "outputs": [],
   "source": [
    "s = str('()[]{}')\n",
    "s[1]\n",
    "p = {\"(\": \")\", \"[\": \"]\", \"{\": \"}\"}\n"
   ]
  },
  {
   "cell_type": "code",
   "execution_count": 14,
   "metadata": {},
   "outputs": [
    {
     "data": {
      "text/plain": [
       "'a'"
      ]
     },
     "execution_count": 14,
     "metadata": {},
     "output_type": "execute_result"
    }
   ],
   "source": [
    "#网上搜到的翻转\n",
    "dicxx = {'a':'001', 'b':'002'}\n",
    "list(dicxx.keys())[list(dicxx.values()).index(\"001\")]\n",
    "#提交后显示超时 所以不能用这种方法"
   ]
  },
  {
   "cell_type": "code",
   "execution_count": 15,
   "metadata": {},
   "outputs": [],
   "source": [
    "class Solution:\n",
    "    def isValid(self, s: str) -> bool:\n",
    "        p = {\"(\": \")\", \"[\": \"]\", \"{\": \"}\"}\n",
    "        temp = []\n",
    "        for parenthesis in s:\n",
    "            if parenthesis in p:\n",
    "                temp.append(parenthesis)\n",
    "            else:\n",
    "                if list(p.keys())[list(p.values()).index(parenthesis)] == temp[-1]:\n",
    "                    temp.remove(temp[-1])\n",
    "\n",
    "        return len(temp) == 0\n",
    "\n",
    "# 提交后显示超时 所以不能用这种方法 改用list.pop()\n",
    "# s = str(')')时答案有误              "
   ]
  },
  {
   "cell_type": "code",
   "execution_count": 31,
   "metadata": {},
   "outputs": [],
   "source": [
    "class Solution:\n",
    "    def isValid(self, s: str) -> bool:\n",
    "        p = {\"(\": \")\", \"[\": \"]\", \"{\": \"}\"}\n",
    "        temp = []\n",
    "        for parenthesis in s:\n",
    "            if parenthesis in p:\n",
    "                temp.append(parenthesis)\n",
    "            elif len(temp) == 0 or p[temp.pop()] != parenthesis:\n",
    "                return False\n",
    "\n",
    "        return len(temp) == 0\n"
   ]
  },
  {
   "cell_type": "code",
   "execution_count": 33,
   "metadata": {},
   "outputs": [
    {
     "data": {
      "text/plain": [
       "False"
      ]
     },
     "execution_count": 33,
     "metadata": {},
     "output_type": "execute_result"
    }
   ],
   "source": [
    "s = str('(')\n",
    "Solution.isValid(1, s)"
   ]
  }
 ],
 "metadata": {
  "kernelspec": {
   "display_name": "base",
   "language": "python",
   "name": "python3"
  },
  "language_info": {
   "codemirror_mode": {
    "name": "ipython",
    "version": 3
   },
   "file_extension": ".py",
   "mimetype": "text/x-python",
   "name": "python",
   "nbconvert_exporter": "python",
   "pygments_lexer": "ipython3",
   "version": "3.8.16"
  },
  "orig_nbformat": 4
 },
 "nbformat": 4,
 "nbformat_minor": 2
}
