{
 "cells": [
  {
   "cell_type": "code",
   "execution_count": 28,
   "metadata": {},
   "outputs": [],
   "source": [
    "class Solution:\n",
    "    def removeDuplicates(self, nums):\n",
    "        temp_nums = nums[:]\n",
    "        if not nums:\n",
    "            return 0\n",
    "        else:\n",
    "            for i in range(1, len(nums)):\n",
    "                if nums[i] == nums[i-1]:\n",
    "                    temp_nums.pop(i)\n",
    "            return len(temp_nums)\n",
    "\n",
    "#pop报错，下面换了一种数数的方法"
   ]
  },
  {
   "cell_type": "code",
   "execution_count": 27,
   "metadata": {},
   "outputs": [],
   "source": [
    "class Solution:\n",
    "    def removeDuplicates(self, nums):\n",
    "        temp = 0\n",
    "        if not nums:\n",
    "            return 0\n",
    "        else:\n",
    "            for i in range(len(nums)):\n",
    "                if nums[i] != nums[temp]:\n",
    "                    temp += 1\n",
    "                    nums[temp] = nums[i]\n",
    "            return temp+1"
   ]
  },
  {
   "attachments": {},
   "cell_type": "markdown",
   "metadata": {},
   "source": [
    "题干有点奇怪的一道题emmmm"
   ]
  },
  {
   "cell_type": "code",
   "execution_count": 30,
   "metadata": {},
   "outputs": [
    {
     "data": {
      "text/plain": [
       "2"
      ]
     },
     "execution_count": 30,
     "metadata": {},
     "output_type": "execute_result"
    }
   ],
   "source": [
    "nums = [1,2,2]\n",
    "Solution.removeDuplicates(1, nums)"
   ]
  }
 ],
 "metadata": {
  "kernelspec": {
   "display_name": "base",
   "language": "python",
   "name": "python3"
  },
  "language_info": {
   "codemirror_mode": {
    "name": "ipython",
    "version": 3
   },
   "file_extension": ".py",
   "mimetype": "text/x-python",
   "name": "python",
   "nbconvert_exporter": "python",
   "pygments_lexer": "ipython3",
   "version": "3.8.16"
  },
  "orig_nbformat": 4
 },
 "nbformat": 4,
 "nbformat_minor": 2
}
