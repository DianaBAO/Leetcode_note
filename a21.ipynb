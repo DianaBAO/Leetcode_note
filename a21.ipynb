{
 "cells": [
  {
   "attachments": {},
   "cell_type": "markdown",
   "metadata": {},
   "source": [
    "# a21 Merge Two Sorted Lists"
   ]
  },
  {
   "attachments": {},
   "cell_type": "markdown",
   "metadata": {},
   "source": [
    "不太会list 找的参考答案\n",
    "chatgpt给讲懂了\n",
    "以后用dummy试试"
   ]
  },
  {
   "cell_type": "code",
   "execution_count": 14,
   "metadata": {},
   "outputs": [],
   "source": [
    "# Definition for singly-linked list.\n",
    "'''class ListNode:\n",
    "     def __init__(self, val=0, next=None):\n",
    "        self.val = val\n",
    "        self.next = next'''\n",
    "class Solution:\n",
    "    def mergeTwoLists(self, list1, list2):\n",
    "        curr = dummy = ListNode(0)\n",
    "        while list1 and list2:\n",
    "            if list1.val < list2.val:\n",
    "                curr.next = list1\n",
    "                list1 = list1.next\n",
    "            else:\n",
    "                curr.next = list2\n",
    "                list2 = list2.next\n",
    "            curr = curr.next\n",
    "        curr.next = list1 or list2\n",
    "\n",
    "        return dummy.next\n"
   ]
  },
  {
   "cell_type": "code",
   "execution_count": 10,
   "metadata": {},
   "outputs": [
    {
     "data": {
      "text/plain": [
       "<__main__.ListNode at 0x1c419361040>"
      ]
     },
     "execution_count": 10,
     "metadata": {},
     "output_type": "execute_result"
    }
   ],
   "source": [
    "ListNode(0)"
   ]
  },
  {
   "cell_type": "code",
   "execution_count": 19,
   "metadata": {},
   "outputs": [
    {
     "ename": "AttributeError",
     "evalue": "type object 'ListNode' has no attribute 'val'",
     "output_type": "error",
     "traceback": [
      "\u001b[1;31m---------------------------------------------------------------------------\u001b[0m",
      "\u001b[1;31mAttributeError\u001b[0m                            Traceback (most recent call last)",
      "Cell \u001b[1;32mIn[19], line 1\u001b[0m\n\u001b[1;32m----> 1\u001b[0m ListNode\u001b[39m.\u001b[39;49mval\n",
      "\u001b[1;31mAttributeError\u001b[0m: type object 'ListNode' has no attribute 'val'"
     ]
    }
   ],
   "source": [
    "ListNode.val"
   ]
  },
  {
   "cell_type": "code",
   "execution_count": 15,
   "metadata": {},
   "outputs": [],
   "source": [
    "list1 = [1, 2, 3]\n",
    "list2 = [2, 3, 4]"
   ]
  },
  {
   "cell_type": "code",
   "execution_count": 16,
   "metadata": {},
   "outputs": [
    {
     "ename": "AttributeError",
     "evalue": "'list' object has no attribute 'val'",
     "output_type": "error",
     "traceback": [
      "\u001b[1;31m---------------------------------------------------------------------------\u001b[0m",
      "\u001b[1;31mAttributeError\u001b[0m                            Traceback (most recent call last)",
      "Cell \u001b[1;32mIn[16], line 1\u001b[0m\n\u001b[1;32m----> 1\u001b[0m Solution\u001b[39m.\u001b[39;49mmergeTwoLists(\u001b[39m1\u001b[39;49m, list1, list2)\n",
      "Cell \u001b[1;32mIn[14], line 10\u001b[0m, in \u001b[0;36mSolution.mergeTwoLists\u001b[1;34m(self, list1, list2)\u001b[0m\n\u001b[0;32m      8\u001b[0m curr \u001b[39m=\u001b[39m dummy \u001b[39m=\u001b[39m ListNode(\u001b[39m0\u001b[39m)\n\u001b[0;32m      9\u001b[0m \u001b[39mwhile\u001b[39;00m list1 \u001b[39mand\u001b[39;00m list2:\n\u001b[1;32m---> 10\u001b[0m     \u001b[39mif\u001b[39;00m list1\u001b[39m.\u001b[39;49mval \u001b[39m<\u001b[39m list2\u001b[39m.\u001b[39mval:\n\u001b[0;32m     11\u001b[0m         curr\u001b[39m.\u001b[39mnext \u001b[39m=\u001b[39m list1\n\u001b[0;32m     12\u001b[0m         list1 \u001b[39m=\u001b[39m list1\u001b[39m.\u001b[39mnext\n",
      "\u001b[1;31mAttributeError\u001b[0m: 'list' object has no attribute 'val'"
     ]
    }
   ],
   "source": [
    "Solution.mergeTwoLists(1, list1, list2)"
   ]
  }
 ],
 "metadata": {
  "kernelspec": {
   "display_name": "base",
   "language": "python",
   "name": "python3"
  },
  "language_info": {
   "codemirror_mode": {
    "name": "ipython",
    "version": 3
   },
   "file_extension": ".py",
   "mimetype": "text/x-python",
   "name": "python",
   "nbconvert_exporter": "python",
   "pygments_lexer": "ipython3",
   "version": "3.8.16"
  },
  "orig_nbformat": 4
 },
 "nbformat": 4,
 "nbformat_minor": 2
}
