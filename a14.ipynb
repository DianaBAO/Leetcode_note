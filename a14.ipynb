{
 "cells": [
  {
   "attachments": {},
   "cell_type": "markdown",
   "metadata": {},
   "source": [
    "# a14 Longest common prefix"
   ]
  },
  {
   "cell_type": "code",
   "execution_count": 97,
   "metadata": {},
   "outputs": [
    {
     "name": "stdout",
     "output_type": "stream",
     "text": [
      "True\n"
     ]
    }
   ],
   "source": [
    "strs = [\"dog\",\"doc\",\"dar\"]\n",
    "strs[0][0] == strs[1][0]"
   ]
  },
  {
   "cell_type": "code",
   "execution_count": 98,
   "metadata": {},
   "outputs": [],
   "source": [
    "class Solution:\n",
    "    def longestCommonPrefix(self, strs):\n",
    "        temp = \"\"\n",
    "        for i in range(min(len(s) for s in strs)):\n",
    "            for a in range(1, len(strs)):\n",
    "                if strs[0][i] == strs[a][i]:\n",
    "                    a = a + 1\n",
    "                else:\n",
    "                    break\n",
    "            else:\n",
    "                temp += strs[0][i]\n",
    "                continue\n",
    "            break\n",
    "                \n",
    "        return temp\n"
   ]
  },
  {
   "cell_type": "code",
   "execution_count": 100,
   "metadata": {},
   "outputs": [
    {
     "data": {
      "text/plain": [
       "'do'"
      ]
     },
     "execution_count": 100,
     "metadata": {},
     "output_type": "execute_result"
    }
   ],
   "source": [
    "strs = [\"dog\",\"doc\",\"doar\"]\n",
    "Solution.longestCommonPrefix(1, strs)"
   ]
  },
  {
   "attachments": {},
   "cell_type": "markdown",
   "metadata": {},
   "source": [
    "Alternative solution from bilibili"
   ]
  },
  {
   "cell_type": "code",
   "execution_count": null,
   "metadata": {},
   "outputs": [],
   "source": [
    "class Solution:\n",
    "    def longestCommonPrefix(self, strs):\n",
    "        result = \"\"\n",
    "        i = 0\n",
    "\n",
    "        while True:\n",
    "            try: \n",
    "                sets = set(string[i] for string in strs)\n",
    "                if len(sets) == 1:\n",
    "                    result += sets.pop()\n",
    "                    i += 1\n",
    "                else:\n",
    "                    break\n",
    "            except Exception as e:\n",
    "                break\n",
    "\n",
    "        return result\n",
    "\n",
    "#NB: be cautious when using while\n",
    "#有注意到memory的区别 大佬是真的大佬 "
   ]
  }
 ],
 "metadata": {
  "kernelspec": {
   "display_name": "base",
   "language": "python",
   "name": "python3"
  },
  "language_info": {
   "codemirror_mode": {
    "name": "ipython",
    "version": 3
   },
   "file_extension": ".py",
   "mimetype": "text/x-python",
   "name": "python",
   "nbconvert_exporter": "python",
   "pygments_lexer": "ipython3",
   "version": "3.8.16"
  },
  "orig_nbformat": 4
 },
 "nbformat": 4,
 "nbformat_minor": 2
}
